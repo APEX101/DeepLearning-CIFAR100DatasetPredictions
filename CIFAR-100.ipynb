{
 "cells": [
  {
   "cell_type": "code",
   "execution_count": 1,
   "metadata": {},
   "outputs": [],
   "source": [
    "import numpy as np\n",
    "import seaborn as sns\n",
    "import matplotlib.pyplot as plt\n",
    "\n",
    "\n",
    "%matplotlib inline"
   ]
  },
  {
   "cell_type": "markdown",
   "metadata": {},
   "source": [
    "# PreProcessing"
   ]
  },
  {
   "cell_type": "code",
   "execution_count": 2,
   "metadata": {},
   "outputs": [],
   "source": [
    "import tensorflow as tf\n",
    "import keras as keras"
   ]
  },
  {
   "cell_type": "code",
   "execution_count": 3,
   "metadata": {},
   "outputs": [],
   "source": [
    "from keras.datasets import cifar100"
   ]
  },
  {
   "cell_type": "code",
   "execution_count": 4,
   "metadata": {},
   "outputs": [
    {
     "name": "stdout",
     "output_type": "stream",
     "text": [
      "Downloading data from https://www.cs.toronto.edu/~kriz/cifar-100-python.tar.gz\n",
      "169009152/169001437 [==============================] - 715s 4us/step\n",
      "169017344/169001437 [==============================] - 715s 4us/step\n"
     ]
    }
   ],
   "source": [
    "#import Mnist dataset from keras from tensorflow keras \n",
    "#and storing it\n",
    "(x_train, y_train), (x_test, y_test) = cifar100.load_data()\n",
    "y_pred_test = y_test"
   ]
  },
  {
   "cell_type": "code",
   "execution_count": 6,
   "metadata": {},
   "outputs": [
    {
     "data": {
      "text/plain": [
       "<matplotlib.image.AxesImage at 0x27200221dc0>"
      ]
     },
     "execution_count": 6,
     "metadata": {},
     "output_type": "execute_result"
    },
    {
     "data": {
      "image/png": "[encoded data removed]",
      "text/plain": [
       "<Figure size 432x288 with 1 Axes>"
      ]
     },
     "metadata": {
      "needs_background": "light"
     },
     "output_type": "display_data"
    }
   ],
   "source": [
    "#Viewing Images\n",
    "test = x_train[1]\n",
    "plt.imshow(test)"
   ]
  },
  {
   "cell_type": "code",
   "execution_count": 7,
   "metadata": {},
   "outputs": [
    {
     "data": {
      "text/plain": [
       "(50000, 32, 32, 3)"
      ]
     },
     "execution_count": 7,
     "metadata": {},
     "output_type": "execute_result"
    }
   ],
   "source": [
    "x_train.shape\n"
   ]
  },
  {
   "cell_type": "markdown",
   "metadata": {},
   "source": [
    "## Image Preprocess"
   ]
  },
  {
   "cell_type": "markdown",
   "metadata": {},
   "source": [
    "### Scaling Images from **0 to 255 to 0 to 1**"
   ]
  },
  {
   "cell_type": "code",
   "execution_count": 8,
   "metadata": {},
   "outputs": [
    {
     "data": {
      "text/plain": [
       "255"
      ]
     },
     "execution_count": 8,
     "metadata": {},
     "output_type": "execute_result"
    }
   ],
   "source": [
    "x_test[0].max()"
   ]
  },
  {
   "cell_type": "code",
   "execution_count": 9,
   "metadata": {},
   "outputs": [],
   "source": [
    "x_train = x_train/255\n",
    "x_test = x_test/255"
   ]
  },
  {
   "cell_type": "markdown",
   "metadata": {},
   "source": [
    "## Label Preprocessing"
   ]
  },
  {
   "cell_type": "code",
   "execution_count": 15,
   "metadata": {},
   "outputs": [
    {
     "data": {
      "text/plain": [
       "array([[19],\n",
       "       [29],\n",
       "       [ 0],\n",
       "       ...,\n",
       "       [ 3],\n",
       "       [ 7],\n",
       "       [73]])"
      ]
     },
     "execution_count": 15,
     "metadata": {},
     "output_type": "execute_result"
    }
   ],
   "source": [
    "#Before preprocessing into Binary Classification metric array\n",
    "y_train"
   ]
  },
  {
   "cell_type": "code",
   "execution_count": 16,
   "metadata": {},
   "outputs": [],
   "source": [
    "from tensorflow.keras.utils import to_categorical"
   ]
  },
  {
   "cell_type": "code",
   "execution_count": 17,
   "metadata": {},
   "outputs": [],
   "source": [
    "y_train = to_categorical(y_train,num_classes=100 )"
   ]
  },
  {
   "cell_type": "code",
   "execution_count": 18,
   "metadata": {},
   "outputs": [],
   "source": [
    "y_test = to_categorical(y_test,num_classes=100 )"
   ]
  },
  {
   "cell_type": "code",
   "execution_count": 19,
   "metadata": {},
   "outputs": [
    {
     "data": {
      "text/plain": [
       "array([[0., 0., 0., ..., 0., 0., 0.],\n",
       "       [0., 0., 0., ..., 0., 0., 0.],\n",
       "       [1., 0., 0., ..., 0., 0., 0.],\n",
       "       ...,\n",
       "       [0., 0., 0., ..., 0., 0., 0.],\n",
       "       [0., 0., 0., ..., 0., 0., 0.],\n",
       "       [0., 0., 0., ..., 0., 0., 0.]], dtype=float32)"
      ]
     },
     "execution_count": 19,
     "metadata": {},
     "output_type": "execute_result"
    }
   ],
   "source": [
    "\n",
    "#After Turing into bindary matrics of single array perlabel \n",
    "y_train"
   ]
  },
  {
   "cell_type": "markdown",
   "metadata": {},
   "source": [
    "## Training"
   ]
  },
  {
   "cell_type": "code",
   "execution_count": 59,
   "metadata": {},
   "outputs": [],
   "source": [
    "from tensorflow.keras.models import Sequential\n",
    "from tensorflow.keras.layers import Dense\n",
    "from tensorflow.keras.layers import MaxPool2D\n",
    "from tensorflow.keras.layers import Flatten\n",
    "from tensorflow.keras.layers import Conv2D"
   ]
  },
  {
   "cell_type": "code",
   "execution_count": 21,
   "metadata": {},
   "outputs": [
    {
     "data": {
      "text/plain": [
       "(50000, 32, 32, 3)"
      ]
     },
     "execution_count": 21,
     "metadata": {},
     "output_type": "execute_result"
    }
   ],
   "source": [
    "x_train.shape"
   ]
  },
  {
   "cell_type": "code",
   "execution_count": 45,
   "metadata": {},
   "outputs": [],
   "source": [
    "# model = Sequential()\n",
    "\n",
    "# #Adding layers\n",
    "# #Adding conv and pool\n",
    "# model.add(Conv2D(filters=32,  kernel_size=(4,4), activation='relu' ,input_shape=(32, 32, 3)  ))\n",
    "# model.add( MaxPool2D(pool_size=(2,2) ))\n",
    "\n",
    "# model.add(Conv2D(filters=32,  kernel_size=(4,4), activation='relu' ,input_shape=(32, 32, 3)  ))\n",
    "# model.add( MaxPool2D(pool_size=(2,2) ))\n",
    "\n",
    "# #Adding Flatten\n",
    "# model.add(Flatten())\n",
    "\n",
    "# #Adding dense layer\n",
    "# model.add(Dense(512,activation='relu'))\n",
    "\n",
    "# #Output\n",
    "# model.add(Dense(100,activation = 'softmax'))"
   ]
  },
  {
   "cell_type": "code",
   "execution_count": 60,
   "metadata": {},
   "outputs": [],
   "source": [
    "model = Sequential()\n",
    "\n",
    "model.add(Conv2D(filters= 64, kernel_size= (3,3), activation='relu', input_shape=(32, 32, 3)))\n",
    "model.add(MaxPool2D(2, 2),)\n",
    "\n",
    "model.add(Conv2D(filters=64, kernel_size=(3, 3), activation='relu'),)\n",
    "model.add(MaxPool2D(2, 2),)\n",
    "\n",
    "model.add(Flatten(),)\n",
    "\n",
    "model.add(Dense(512, activation='relu'),)\n",
    "#output\n",
    "model.add(Dense(100, activation='softmax'))"
   ]
  },
  {
   "cell_type": "code",
   "execution_count": 69,
   "metadata": {},
   "outputs": [],
   "source": [
    "from tensorflow.keras.losses import sparse_categorical_crossentropy\n",
    "\n",
    "\n"
   ]
  },
  {
   "cell_type": "code",
   "execution_count": 73,
   "metadata": {},
   "outputs": [],
   "source": [
    "#Compile\n",
    "model.compile(optimizer='adam', loss=\"categorical_crossentropy\", metrics=['accuracy'])\n"
   ]
  },
  {
   "cell_type": "code",
   "execution_count": 74,
   "metadata": {},
   "outputs": [],
   "source": [
    "#Early Stops\n",
    "from tensorflow.keras.callbacks import EarlyStopping\n",
    "\n",
    "stop = EarlyStopping(monitor='val_loss',patience=2,verbose=1)\n"
   ]
  },
  {
   "cell_type": "code",
   "execution_count": 75,
   "metadata": {},
   "outputs": [
    {
     "name": "stdout",
     "output_type": "stream",
     "text": [
      "Epoch 1/25\n",
      "782/782 [==============================] - 81s 87ms/step - loss: 3.6314 - accuracy: 0.1561 - val_loss: 3.0787 - val_accuracy: 0.2508\n",
      "Epoch 2/25\n",
      "782/782 [==============================] - 58s 75ms/step - loss: 2.8286 - accuracy: 0.2976 - val_loss: 2.7346 - val_accuracy: 0.3203\n",
      "Epoch 3/25\n",
      "782/782 [==============================] - 60s 77ms/step - loss: 2.4864 - accuracy: 0.3684 - val_loss: 2.5951 - val_accuracy: 0.3507\n",
      "Epoch 4/25\n",
      "782/782 [==============================] - 60s 76ms/step - loss: 2.2416 - accuracy: 0.4214 - val_loss: 2.5695 - val_accuracy: 0.3608\n",
      "Epoch 5/25\n",
      "782/782 [==============================] - 60s 77ms/step - loss: 2.0300 - accuracy: 0.4672 - val_loss: 2.5142 - val_accuracy: 0.3768\n",
      "Epoch 6/25\n",
      "782/782 [==============================] - 58s 75ms/step - loss: 1.8283 - accuracy: 0.5111 - val_loss: 2.6042 - val_accuracy: 0.3720\n",
      "Epoch 7/25\n",
      "782/782 [==============================] - 59s 76ms/step - loss: 1.6535 - accuracy: 0.5537 - val_loss: 2.6197 - val_accuracy: 0.3794\n",
      "Epoch 00007: early stopping\n"
     ]
    },
    {
     "data": {
      "text/plain": [
       "<tensorflow.python.keras.callbacks.History at 0x272a51413d0>"
      ]
     },
     "execution_count": 75,
     "metadata": {},
     "output_type": "execute_result"
    }
   ],
   "source": [
    "#Fitting\n",
    "model.fit(x=x_train,\n",
    "    y=y_train,\n",
    "          batch_size=64,\n",
    "    epochs=25,\n",
    "    callbacks=[stop],\n",
    "          validation_data=(x_test,y_test))"
   ]
  },
  {
   "cell_type": "markdown",
   "metadata": {},
   "source": [
    "## Testing"
   ]
  },
  {
   "cell_type": "code",
   "execution_count": 93,
   "metadata": {},
   "outputs": [],
   "source": [
    "classes = ['beaver', 'dolphin', 'otter', 'seal', 'whale', \n",
    "'aquarium' 'fish', 'flatfish', 'ray', 'shark', 'trout', \n",
    "'orchids', 'poppies', 'roses', 'sunflowers', 'tulips', \n",
    "'bottles', 'bowls', 'cans', 'cups', 'plates', \n",
    "'apples', 'mushrooms', 'oranges', 'pears',' sweet peppers', \n",
    "'clock', 'computer keyboard', 'lamp', 'telephone', 'television', \n",
    "'bed', 'chair', 'couch', 'table', 'wardrobe', \n",
    "'bee', 'beetle', 'butterfly', 'caterpillar', 'cockroach', \n",
    "'bear', 'leopard', 'lion', 'tiger', 'wolf', \n",
    "'bridge', 'castle', 'house', 'road', 'skyscraper', \n",
    "'cloud', 'forest', 'mountain', 'plain', 'sea', \n",
    "'camel', 'cattle', 'chimpanzee', 'elephant', 'kangaroo', \n",
    "'fox', 'porcupine', 'possum', 'raccoon', 'skunk', \n",
    "'crab', 'lobster', 'snail', 'spider', 'worm', \n",
    "'baby', 'boy', 'girl', 'man', 'woman', \n",
    "'crocodile', 'dinosaur', 'lizard', 'snake', 'turtle', \n",
    "'hamster', 'mouse', 'rabbit', 'shrew', 'squirrel', \n",
    "'maple', 'oak', 'palm', 'pine', 'willow', \n",
    "'bicycle', 'bus', 'motorcycle', 'pickup truck', 'train', \n",
    "'lawn-mower', 'rocket', 'streetcar', 'tank', 'tractor']"
   ]
  },
  {
   "cell_type": "code",
   "execution_count": 29,
   "metadata": {},
   "outputs": [],
   "source": [
    "import pandas as pd"
   ]
  },
  {
   "cell_type": "code",
   "execution_count": 76,
   "metadata": {},
   "outputs": [],
   "source": [
    "loss = pd.DataFrame(model.history.history)"
   ]
  },
  {
   "cell_type": "code",
   "execution_count": 77,
   "metadata": {},
   "outputs": [
    {
     "data": {
      "text/plain": [
       "<AxesSubplot:>"
      ]
     },
     "execution_count": 77,
     "metadata": {},
     "output_type": "execute_result"
    },
    {
     "data": {
      "image/png": "[encoded data removed]",
      "text/plain": [
       "<Figure size 432x288 with 1 Axes>"
      ]
     },
     "metadata": {
      "needs_background": "light"
     },
     "output_type": "display_data"
    }
   ],
   "source": [
    "loss[['loss','val_loss']].plot()"
   ]
  },
  {
   "cell_type": "code",
   "execution_count": 78,
   "metadata": {},
   "outputs": [
    {
     "data": {
      "text/plain": [
       "<AxesSubplot:>"
      ]
     },
     "execution_count": 78,
     "metadata": {},
     "output_type": "execute_result"
    },
    {
     "data": {
      "image/png": "[encoded data removed]",
      "text/plain": [
       "<Figure size 432x288 with 1 Axes>"
      ]
     },
     "metadata": {
      "needs_background": "light"
     },
     "output_type": "display_data"
    }
   ],
   "source": [
    "loss[['val_accuracy','accuracy']].plot()"
   ]
  },
  {
   "cell_type": "code",
   "execution_count": 40,
   "metadata": {},
   "outputs": [],
   "source": [
    "from sklearn.metrics import classification_report,confusion_matrix"
   ]
  },
  {
   "cell_type": "code",
   "execution_count": 95,
   "metadata": {},
   "outputs": [
    {
     "name": "stderr",
     "output_type": "stream",
     "text": [
      "C:\\ProgramData\\Anaconda3\\lib\\site-packages\\tensorflow\\python\\keras\\engine\\sequential.py:455: UserWarning: `model.predict_classes()` is deprecated and will be removed after 2021-01-01. Please use instead:* `np.argmax(model.predict(x), axis=-1)`,   if your model does multi-class classification   (e.g. if it uses a `softmax` last-layer activation).* `(model.predict(x) > 0.5).astype(\"int32\")`,   if your model does binary classification   (e.g. if it uses a `sigmoid` last-layer activation).\n",
      "  warnings.warn('`model.predict_classes()` is deprecated and '\n"
     ]
    }
   ],
   "source": [
    "#predict on xtest\n",
    "pred = model.predict_classes(x_test)"
   ]
  },
  {
   "cell_type": "code",
   "execution_count": 80,
   "metadata": {},
   "outputs": [
    {
     "name": "stdout",
     "output_type": "stream",
     "text": [
      "              precision    recall  f1-score   support\n",
      "\n",
      "           0       0.64      0.66      0.65       100\n",
      "           1       0.39      0.61      0.48       100\n",
      "           2       0.24      0.35      0.29       100\n",
      "           3       0.19      0.19      0.19       100\n",
      "           4       0.41      0.11      0.17       100\n",
      "           5       0.30      0.37      0.33       100\n",
      "           6       0.34      0.44      0.38       100\n",
      "           7       0.47      0.37      0.42       100\n",
      "           8       0.34      0.55      0.42       100\n",
      "           9       0.47      0.46      0.46       100\n",
      "          10       0.28      0.18      0.22       100\n",
      "          11       0.35      0.26      0.30       100\n",
      "          12       0.43      0.32      0.37       100\n",
      "          13       0.42      0.28      0.34       100\n",
      "          14       0.36      0.31      0.33       100\n",
      "          15       0.23      0.30      0.26       100\n",
      "          16       0.44      0.38      0.41       100\n",
      "          17       0.40      0.68      0.50       100\n",
      "          18       0.38      0.34      0.36       100\n",
      "          19       0.24      0.30      0.27       100\n",
      "          20       0.55      0.70      0.61       100\n",
      "          21       0.45      0.57      0.50       100\n",
      "          22       0.30      0.31      0.30       100\n",
      "          23       0.59      0.37      0.45       100\n",
      "          24       0.48      0.64      0.55       100\n",
      "          25       0.40      0.21      0.27       100\n",
      "          26       0.28      0.26      0.27       100\n",
      "          27       0.27      0.21      0.23       100\n",
      "          28       0.66      0.64      0.65       100\n",
      "          29       0.36      0.37      0.36       100\n",
      "          30       0.48      0.32      0.38       100\n",
      "          31       0.25      0.32      0.28       100\n",
      "          32       0.41      0.31      0.35       100\n",
      "          33       0.58      0.18      0.27       100\n",
      "          34       0.26      0.36      0.30       100\n",
      "          35       0.18      0.20      0.19       100\n",
      "          36       0.41      0.43      0.42       100\n",
      "          37       0.30      0.21      0.25       100\n",
      "          38       0.15      0.30      0.20       100\n",
      "          39       0.30      0.49      0.37       100\n",
      "          40       0.51      0.30      0.38       100\n",
      "          41       0.67      0.60      0.63       100\n",
      "          42       0.35      0.19      0.25       100\n",
      "          43       0.31      0.52      0.39       100\n",
      "          44       0.24      0.06      0.10       100\n",
      "          45       0.26      0.25      0.26       100\n",
      "          46       0.26      0.26      0.26       100\n",
      "          47       0.51      0.43      0.47       100\n",
      "          48       0.61      0.67      0.64       100\n",
      "          49       0.37      0.51      0.43       100\n",
      "          50       0.23      0.14      0.18       100\n",
      "          51       0.55      0.28      0.37       100\n",
      "          52       0.61      0.53      0.57       100\n",
      "          53       0.50      0.65      0.56       100\n",
      "          54       0.43      0.56      0.49       100\n",
      "          55       0.15      0.02      0.04       100\n",
      "          56       0.53      0.52      0.53       100\n",
      "          57       0.31      0.37      0.34       100\n",
      "          58       0.65      0.36      0.46       100\n",
      "          59       0.35      0.35      0.35       100\n",
      "          60       0.75      0.75      0.75       100\n",
      "          61       0.49      0.51      0.50       100\n",
      "          62       0.54      0.31      0.39       100\n",
      "          63       0.26      0.34      0.29       100\n",
      "          64       0.22      0.22      0.22       100\n",
      "          65       0.16      0.12      0.14       100\n",
      "          66       0.28      0.39      0.32       100\n",
      "          67       0.34      0.46      0.39       100\n",
      "          68       0.73      0.65      0.69       100\n",
      "          69       0.45      0.64      0.53       100\n",
      "          70       0.43      0.40      0.41       100\n",
      "          71       0.65      0.48      0.55       100\n",
      "          72       0.12      0.08      0.10       100\n",
      "          73       0.33      0.39      0.36       100\n",
      "          74       0.25      0.23      0.24       100\n",
      "          75       0.55      0.69      0.61       100\n",
      "          76       0.69      0.64      0.66       100\n",
      "          77       0.34      0.16      0.22       100\n",
      "          78       0.21      0.21      0.21       100\n",
      "          79       0.26      0.36      0.30       100\n",
      "          80       0.22      0.08      0.12       100\n",
      "          81       0.28      0.48      0.35       100\n",
      "          82       0.69      0.63      0.66       100\n",
      "          83       0.30      0.28      0.29       100\n",
      "          84       0.33      0.15      0.21       100\n",
      "          85       0.42      0.58      0.49       100\n",
      "          86       0.34      0.56      0.42       100\n",
      "          87       0.50      0.41      0.45       100\n",
      "          88       0.37      0.29      0.32       100\n",
      "          89       0.38      0.39      0.38       100\n",
      "          90       0.36      0.32      0.34       100\n",
      "          91       0.38      0.51      0.44       100\n",
      "          92       0.24      0.24      0.24       100\n",
      "          93       0.19      0.24      0.21       100\n",
      "          94       0.58      0.83      0.68       100\n",
      "          95       0.43      0.50      0.47       100\n",
      "          96       0.30      0.31      0.30       100\n",
      "          97       0.30      0.37      0.33       100\n",
      "          98       0.24      0.09      0.13       100\n",
      "          99       0.32      0.22      0.26       100\n",
      "\n",
      "    accuracy                           0.38     10000\n",
      "   macro avg       0.39      0.38      0.37     10000\n",
      "weighted avg       0.39      0.38      0.37     10000\n",
      "\n"
     ]
    }
   ],
   "source": [
    "print(classification_report(y_pred_test , pred))"
   ]
  },
  {
   "cell_type": "code",
   "execution_count": 81,
   "metadata": {},
   "outputs": [
    {
     "name": "stdout",
     "output_type": "stream",
     "text": [
      "[[66  1  0 ...  0  0  0]\n",
      " [ 0 61  1 ...  1  0  0]\n",
      " [ 1  1 35 ...  1  4  0]\n",
      " ...\n",
      " [ 0  0  2 ... 37  0  1]\n",
      " [ 1  0  7 ...  1  9  1]\n",
      " [ 0  1  0 ...  1  1 22]]\n"
     ]
    }
   ],
   "source": [
    "print(confusion_matrix(y_pred_test , pred))"
   ]
  },
  {
   "cell_type": "code",
   "execution_count": 115,
   "metadata": {},
   "outputs": [
    {
     "data": {
      "image/png": "[encoded data removed]",
      "text/plain": [
       "<Figure size 432x288 with 1 Axes>"
      ]
     },
     "metadata": {
      "needs_background": "light"
     },
     "output_type": "display_data"
    }
   ],
   "source": [
    "plt.imshow(x_train[7])\n",
    "plt.show()"
   ]
  },
  {
   "cell_type": "code",
   "execution_count": 107,
   "metadata": {},
   "outputs": [
    {
     "data": {
      "text/plain": [
       "<matplotlib.image.AxesImage at 0x2726dfa5490>"
      ]
     },
     "execution_count": 107,
     "metadata": {},
     "output_type": "execute_result"
    },
    {
     "data": {
      "image/png": "[encoded data removed]",
      "text/plain": [
       "<Figure size 432x288 with 1 Axes>"
      ]
     },
     "metadata": {
      "needs_background": "light"
     },
     "output_type": "display_data"
    }
   ],
   "source": [
    "real = x_test[6]\n",
    "plt.imshow(real)"
   ]
  },
  {
   "cell_type": "code",
   "execution_count": 116,
   "metadata": {},
   "outputs": [],
   "source": [
    "answer1 = np.argmax(pred[7])"
   ]
  },
  {
   "cell_type": "code",
   "execution_count": 117,
   "metadata": {},
   "outputs": [
    {
     "name": "stdout",
     "output_type": "stream",
     "text": [
      "beaver\n"
     ]
    }
   ],
   "source": [
    "print(classes[answer1])"
   ]
  },
  {
   "cell_type": "code",
   "execution_count": 90,
   "metadata": {},
   "outputs": [],
   "source": [
    "test = x_test[1].reshape(1,32,32,3)"
   ]
  },
  {
   "cell_type": "markdown",
   "metadata": {},
   "source": [
    "## Custom Data"
   ]
  },
  {
   "cell_type": "code",
   "execution_count": 91,
   "metadata": {},
   "outputs": [
    {
     "name": "stderr",
     "output_type": "stream",
     "text": [
      "C:\\ProgramData\\Anaconda3\\lib\\site-packages\\tensorflow\\python\\keras\\engine\\sequential.py:455: UserWarning: `model.predict_classes()` is deprecated and will be removed after 2021-01-01. Please use instead:* `np.argmax(model.predict(x), axis=-1)`,   if your model does multi-class classification   (e.g. if it uses a `softmax` last-layer activation).* `(model.predict(x) > 0.5).astype(\"int32\")`,   if your model does binary classification   (e.g. if it uses a `sigmoid` last-layer activation).\n",
      "  warnings.warn('`model.predict_classes()` is deprecated and '\n"
     ]
    },
    {
     "data": {
      "text/plain": [
       "array([97], dtype=int64)"
      ]
     },
     "execution_count": 91,
     "metadata": {},
     "output_type": "execute_result"
    }
   ],
   "source": [
    "model.predict_classes(test)"
   ]
  },
  {
   "cell_type": "code",
   "execution_count": 92,
   "metadata": {},
   "outputs": [
    {
     "data": {
      "text/plain": [
       "<matplotlib.image.AxesImage at 0x272809d6370>"
      ]
     },
     "execution_count": 92,
     "metadata": {},
     "output_type": "execute_result"
    },
    {
     "data": {
      "image/png": "[encoded data removed]",
      "text/plain": [
       "<Figure size 432x288 with 1 Axes>"
      ]
     },
     "metadata": {
      "needs_background": "light"
     },
     "output_type": "display_data"
    }
   ],
   "source": [
    "plt.imshow(test.reshape(32,32,3))"
   ]
  },
  {
   "cell_type": "markdown",
   "metadata": {},
   "source": [
    "# SaveModel"
   ]
  },
  {
   "cell_type": "code",
   "execution_count": 52,
   "metadata": {},
   "outputs": [],
   "source": [
    "model.save(\"MNISTpredict.h5\")"
   ]
  },
  {
   "cell_type": "code",
   "execution_count": null,
   "metadata": {},
   "outputs": [],
   "source": []
  }
 ],
 "metadata": {
  "kernelspec": {
   "display_name": "Python 3",
   "language": "python",
   "name": "python3"
  },
  "language_info": {
   "codemirror_mode": {
    "name": "ipython",
    "version": 3
   },
   "file_extension": ".py",
   "mimetype": "text/x-python",
   "name": "python",
   "nbconvert_exporter": "python",
   "pygments_lexer": "ipython3",
   "version": "3.8.5"
  }
 },
 "nbformat": 4,
 "nbformat_minor": 4
}
